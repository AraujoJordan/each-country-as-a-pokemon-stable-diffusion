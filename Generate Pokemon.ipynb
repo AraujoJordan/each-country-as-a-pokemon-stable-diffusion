{
 "cells": [
  {
   "cell_type": "code",
   "execution_count": null,
   "metadata": {},
   "outputs": [],
   "source": [
    "from pathlib import Path\n",
    "import time\n",
    "from random import randint\n",
    "\n",
    "from diffusers import StableDiffusionPipeline\n",
    "from PIL import Image, ImageDraw, ImageFont\n",
    "from tqdm import tqdm\n",
    "import torch\n",
    "from torch import autocast\n",
    "\n",
    "from countries import countries"
   ]
  },
  {
   "cell_type": "code",
   "execution_count": null,
   "metadata": {},
   "outputs": [],
   "source": [
    "DEVICE = \"cuda\"\n",
    "\n",
    "# Either download the model repo from\n",
    "# here: https://huggingface.co/lambdalabs/sd-pokemon-diffusers\n",
    "# and use a local path,\n",
    "# or set MODEL_PATH=\"lambdalabs/sd-pokemon-diffusers\"\n",
    "# to automatically download the model from the HuggingFace hub.\n",
    "MODEL_PATH = \"/home/sid/Desktop/sd-pokemon-diffusers\""
   ]
  },
  {
   "cell_type": "code",
   "execution_count": null,
   "metadata": {},
   "outputs": [],
   "source": [
    "pipe = StableDiffusionPipeline.from_pretrained(\n",
    "    MODEL_PATH,\n",
    "    revision=\"fp16\",\n",
    "    torch_dtype=torch.float16,\n",
    ")\n",
    "pipe = pipe.to(DEVICE)\n",
    "pipe.enable_attention_slicing()\n",
    "# turn off to prevent false positive (unlikely to get NSFW in this context)\n",
    "pipe.safety_checker = lambda images, **kwargs: (images, False)"
   ]
  },
  {
   "cell_type": "code",
   "execution_count": null,
   "metadata": {},
   "outputs": [],
   "source": [
    "def generate_image(prompt: str, seed=None):\n",
    "    generator = torch.Generator(DEVICE).manual_seed(seed) if seed else None\n",
    "    with autocast(DEVICE):\n",
    "        image = pipe(prompt, generator=generator).images[0]\n",
    "    return image"
   ]
  },
  {
   "cell_type": "code",
   "execution_count": null,
   "metadata": {},
   "outputs": [],
   "source": [
    "savedir = Path(f\"images/{time.strftime('%Y%m%d-%H%M%S')}\")\n",
    "savedir.mkdir(exist_ok=True)\n",
    "for country_name in tqdm(countries):\n",
    "    prompt = f\"The country of {country_name} as a pokemon\"\n",
    "    seed = randint(0, 10_000)  # so can reproduce a given example\n",
    "    image = generate_image(prompt, seed)\n",
    "    # Annotate the image with the country name\n",
    "    base_width, base_height = image.size\n",
    "    annotated_image = Image.new(\"RGB\", (base_width, base_height + 60), (255, 255, 255))\n",
    "    annotated_image.paste(image, (0, 0))\n",
    "    draw = ImageDraw.Draw(annotated_image)\n",
    "    font = ImageFont.truetype(\"OpenSans-Regular.ttf\", 40)\n",
    "    draw.text((0, base_height), f\"{country_name}\", (0, 0, 0), font=font)\n",
    "    # Save it\n",
    "    annotated_image.save(savedir / f\"{prompt}_seed{seed}.png\")"
   ]
  }
 ],
 "metadata": {
  "kernelspec": {
   "display_name": "Python 3.9.13 ('each-country-as-a-pokemon-stable-diffusion')",
   "language": "python",
   "name": "python3"
  },
  "language_info": {
   "codemirror_mode": {
    "name": "ipython",
    "version": 3
   },
   "file_extension": ".py",
   "mimetype": "text/x-python",
   "name": "python",
   "nbconvert_exporter": "python",
   "pygments_lexer": "ipython3",
   "version": "3.9.13"
  },
  "orig_nbformat": 4,
  "vscode": {
   "interpreter": {
    "hash": "1b0f320acd45bd3a3c3c475369264ec68a66bdbc3d03825121acf7a8de5513f1"
   }
  }
 },
 "nbformat": 4,
 "nbformat_minor": 2
}
