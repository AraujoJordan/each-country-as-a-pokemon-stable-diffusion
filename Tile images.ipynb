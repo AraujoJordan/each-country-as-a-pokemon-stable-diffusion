{
 "cells": [
  {
   "cell_type": "code",
   "execution_count": 3,
   "metadata": {},
   "outputs": [],
   "source": [
    "import time\n",
    "from pathlib import Path\n",
    "\n",
    "from PIL import Image\n",
    "\n",
    "Image.MAX_IMAGE_PIXELS = None"
   ]
  },
  {
   "cell_type": "code",
   "execution_count": 4,
   "metadata": {},
   "outputs": [
    {
     "name": "stdout",
     "output_type": "stream",
     "text": [
      "252\n"
     ]
    }
   ],
   "source": [
    "SIZE = 0.4  # multiplier\n",
    "num_rows = 14\n",
    "num_cols = 18\n",
    "print(num_rows * num_cols)"
   ]
  },
  {
   "cell_type": "code",
   "execution_count": 5,
   "metadata": {},
   "outputs": [
    {
     "name": "stdout",
     "output_type": "stream",
     "text": [
      "len(image_paths) = 241\n",
      "count = 241\n"
     ]
    }
   ],
   "source": [
    "def resize(image):\n",
    "    w, h = image.size\n",
    "    return image.resize([int(w * SIZE), int(h * SIZE)])\n",
    "\n",
    "\n",
    "image_dir = Path(\"./images/the_country_of_x_as_pokemon_20220920-203730\")\n",
    "image_paths = sorted(image_dir.glob(\"*.png\"))\n",
    "print(f\"{len(image_paths) = }\")\n",
    "\n",
    "test_image = resize(Image.open(image_paths[0]))\n",
    "im_w, im_h = test_image.size\n",
    "big_image = Image.new(\"RGB\", (im_w * num_cols, im_h * num_rows), (0, 0, 0))\n",
    "images = (resize(Image.open(x)) for x in image_paths)\n",
    "count = 0\n",
    "for row_idx in range(num_rows):\n",
    "    for col_idx in range(num_cols):\n",
    "        try:\n",
    "            image = next(images)\n",
    "        except StopIteration:\n",
    "            break\n",
    "        big_image.paste(image, (col_idx * im_w, row_idx * im_h))\n",
    "        count += 1\n",
    "print(f\"{count = }\")\n",
    "big_image.save(f\"./images/the_country_of_x_as_pokemon_20220920-203730.jpg\")"
   ]
  }
 ],
 "metadata": {
  "kernelspec": {
   "display_name": "Python 3.9.13 ('each-country-as-a-pokemon-stable-diffusion')",
   "language": "python",
   "name": "python3"
  },
  "language_info": {
   "codemirror_mode": {
    "name": "ipython",
    "version": 3
   },
   "file_extension": ".py",
   "mimetype": "text/x-python",
   "name": "python",
   "nbconvert_exporter": "python",
   "pygments_lexer": "ipython3",
   "version": "3.9.13"
  },
  "orig_nbformat": 4,
  "vscode": {
   "interpreter": {
    "hash": "1b0f320acd45bd3a3c3c475369264ec68a66bdbc3d03825121acf7a8de5513f1"
   }
  }
 },
 "nbformat": 4,
 "nbformat_minor": 2
}
